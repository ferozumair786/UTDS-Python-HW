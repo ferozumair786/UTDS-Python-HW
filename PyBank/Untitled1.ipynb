{
 "cells": [
  {
   "cell_type": "code",
   "execution_count": null,
   "metadata": {},
   "outputs": [],
   "source": [
    "import os\n",
    "import csv\n",
    "import random\n",
    "#Open file\n",
    "banking = os.path.join(\"budget_data.csv\")\n",
    "\n",
    "#with open(banking,newline=\"\") as bankfile:\n",
    "    #bankreader = csv.reader(bankfile,delimiter=\",\")\n",
    "    #header = next(bankreader)\n",
    "\n",
    "#Run through CSV\n",
    "with open(banking, 'r') as bankfile:\n",
    "    bankreader = csv.reader(bankfile, delimiter=\",\")\n",
    "    header = next(bankreader)\n",
    "\n",
    "#Total number of months\n",
    "bankreader(\"Date\").string()\n",
    "\n",
    "#convert date to string and then split it by \"/\"\n",
    "#count distinct values\n",
    "\n",
    "#Net total of profits\n",
    "#loop and sum column for amount\n",
    "\n",
    "\n",
    "\n"
   ]
  }
 ],
 "metadata": {
  "kernelspec": {
   "display_name": "Python 3",
   "language": "python",
   "name": "python3"
  }
 },
 "nbformat": 4,
 "nbformat_minor": 2
}
